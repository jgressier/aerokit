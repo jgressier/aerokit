{
 "cells": [
  {
   "cell_type": "markdown",
   "metadata": {},
   "source": [
    "# Spectral discretization\n",
    "\n",
    "A spectral discretization uses a basis of functions which dimension is the maximum order of representation of a solution. In an spectral collocation method, the variables are the values at N collocation points. The expected error is then proportional to $(1/N)^N$ unlike classical p-order methods whose error is proportional to $(1/N)^p$.\n",
    "\n",
    "To analyze the convergence, a function f is discretized on collocation points. The derivated function is computed thanks to the differentiation operator and compared to the theoretical function."
   ]
  },
  {
   "cell_type": "code",
   "execution_count": null,
   "id": "willing-imaging",
   "metadata": {},
   "outputs": [],
   "source": [
    "import aerokit.common.numspectral as sp\n",
    "import numpy as np\n",
    "\n",
    "def f(x):\n",
    "    return np.exp(-((x - 0.1) ** 2))\n",
    "\n",
    "def df(x):\n",
    "    return -2 * (x - 0.1) * f(x)\n",
    "\n",
    "def df2(x):\n",
    "    return -2 * (1 - 2.*(x - 0.1)**2) * f(x)"
   ]
  },
  {
   "cell_type": "markdown",
   "id": "designing-senegal",
   "metadata": {},
   "source": [
    "## Validation of Chebyshev derivation operator\n",
    "\n",
    "Discretized (using matrix vector product) and theoretical first and second order deratives are compared."
   ]
  },
  {
   "cell_type": "code",
   "execution_count": null,
   "id": "acute-alert",
   "metadata": {},
   "outputs": [],
   "source": [
    "import matplotlib.pyplot as plt\n",
    "plt.rcParams.update({\"axes.labelsize\":12, \"axes.titlesize\":13 })\n",
    "#\n",
    "alln = range(5,31) # mesh sizes\n",
    "err = np.zeros(len(alln))\n",
    "#\n",
    "for i, n in enumerate(alln):\n",
    "  SpOp = sp.ChebCollocation(n)\n",
    "  x = SpOp.x # collocation points\n",
    "  df_th = df(x)\n",
    "  df_num = SpOp.matder(1) @ f(x)\n",
    "  err[i] = np.sqrt(np.sum((df_th-df_num)**2)/n )\n",
    "\n",
    "fig, (ax1, ax2) = plt.subplots(1, 2, figsize=(12,4))\n",
    "ax1.plot(x, df_th, '-', x, df_num, 'o')\n",
    "ax1.set_title('Gaussian function first derivative')\n",
    "ax1.set_xlabel('$x$')\n",
    "ax1.set_ylabel('$\\dfrac{{d} f}{{d} x}$',rotation='horizontal', ha='right')\n",
    "ax2.set_title('Error')\n",
    "ax2.semilogy(alln, err)\n",
    "ax2.set_xlabel('$N$')\n",
    "ax2.set_ylabel('$\\epsilon$',rotation='horizontal', ha='right');"
   ]
  },
  {
   "cell_type": "markdown",
   "metadata": {},
   "source": [
    "## Curve fitting\n",
    "\n",
    "Assuming the continuous function is not known, only a (often continuous) sampling is offered. Since Chebyshev collocation methods prefer using their own collocation points. It is recommended to fit Chebyshev at these points (non linear mapping are not yet available there, V1.2.1)."
   ]
  },
  {
   "cell_type": "code",
   "execution_count": null,
   "metadata": {},
   "outputs": [],
   "source": [
    "g = lambda x: np.exp(-5*(x-.2)*(x-.6))\n",
    "x_uni = np.linspace(-1, 1, 101, endpoint=True)\n",
    "samples = g(x_uni)\n",
    "#\n",
    "# param plot\n",
    "fig, (ax1, ax2) = plt.subplots(1, 2, figsize=(12,4))\n",
    "ax1.set_title('function fitting and extrapolation')\n",
    "ax1.set_xlabel('$x$')\n",
    "ax1.set_ylabel('$g(x)$',rotation='horizontal', ha='right')\n",
    "ax1.plot(x_uni, samples)\n",
    "ax2.set_title('Error')\n",
    "ax2.set_xlabel('$N$')\n",
    "ax2.set_ylabel('$\\epsilon$',rotation='horizontal', ha='right');\n",
    "#\n",
    "alln = np.arange(4, 50)\n",
    "plotn = (5, 8, 15)\n",
    "err = np.zeros((len(alln)))\n",
    "for i, n in enumerate(alln):\n",
    "    SpOp = sp.ChebCollocation(n)\n",
    "    f_xi = SpOp.fit_to_gauss(x_uni, samples)\n",
    "    newf = SpOp.extrapol(f_xi, x_uni)\n",
    "    err[i] = np.sqrt(np.sum((newf-samples)**2)/samples.size )\n",
    "    if n in plotn:\n",
    "        ax1.plot(x_uni, newf, label=f\"N={n}\")\n",
    "        ax1.legend()\n",
    "#\n",
    "ax2.semilogy(alln, err)\n"
   ]
  },
  {
   "cell_type": "code",
   "execution_count": null,
   "metadata": {},
   "outputs": [],
   "source": []
  }
 ],
 "metadata": {
  "kernelspec": {
   "display_name": "Python 3",
   "language": "python",
   "name": "python3"
  },
  "language_info": {
   "codemirror_mode": {
    "name": "ipython",
    "version": 3
   },
   "file_extension": ".py",
   "mimetype": "text/x-python",
   "name": "python",
   "nbconvert_exporter": "python",
   "pygments_lexer": "ipython3",
   "version": "3.9.1"
  }
 },
 "nbformat": 4,
 "nbformat_minor": 5
}
